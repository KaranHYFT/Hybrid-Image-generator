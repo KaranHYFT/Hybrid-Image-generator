{
 "cells": [
  {
   "cell_type": "code",
   "execution_count": 14,
   "metadata": {},
   "outputs": [],
   "source": [
    "import cv2"
   ]
  },
  {
   "cell_type": "code",
   "execution_count": 27,
   "metadata": {},
   "outputs": [],
   "source": [
    "#Load images\n",
    "image1 = cv2.imread('bird.bmp')\n",
    "image2 = cv2.imread('plane.bmp')\n",
    "#Image resize\n",
    "image1 = cv2.resize(image1, (400,300), interpolation = cv2.INTER_AREA)\n",
    "image2 = cv2.resize(image2, (400,300), interpolation = cv2.INTER_AREA)\n",
    "#converting image to greyscale\n",
    "image1 = cv2.cvtColor(image1, cv2.COLOR_BGR2GRAY)\n",
    "image2 = cv2.cvtColor(image2, cv2.COLOR_BGR2GRAY)"
   ]
  },
  {
   "cell_type": "code",
   "execution_count": 28,
   "metadata": {},
   "outputs": [
    {
     "data": {
      "text/plain": [
       "True"
      ]
     },
     "execution_count": 28,
     "metadata": {},
     "output_type": "execute_result"
    }
   ],
   "source": [
    "#Creating High scale of image 1\n",
    "lowp_image1 = cv2.GaussianBlur(image1, (9,9), 15)\n",
    "highp_image1 = image1 - lowp_image1\n",
    "#Creating low scale of image 2\n",
    "lowp_image2 = cv2.GaussianBlur(image2, (15,15), 2)\n",
    "\n",
    "#Displaying and Saving - Highpass of Image 1 and Lowpass of Image 2\n",
    "cv2.imshow(\"Highpass 1\", highp_image1)\n",
    "cv2.imshow(\"Lowpass 2\", lowp_image2)\n",
    "cv2.imwrite('Highpass 11111.jpg', highp_image1)\n",
    "cv2.imwrite('Lowpass 22222.jpg', lowp_image2)"
   ]
  },
  {
   "cell_type": "code",
   "execution_count": 29,
   "metadata": {},
   "outputs": [
    {
     "data": {
      "text/plain": [
       "True"
      ]
     },
     "execution_count": 29,
     "metadata": {},
     "output_type": "execute_result"
    }
   ],
   "source": [
    "hybrid_image =  (highp_image1 + lowp_image2)\n",
    "\n",
    "#Displaying and Saving - Hybrid Image\n",
    "cv2.imshow(\"Hybrid image\", hybrid_image)\n",
    "cv2.imwrite('hybrid111.jpg', hybrid_image)"
   ]
  },
  {
   "cell_type": "code",
   "execution_count": null,
   "metadata": {},
   "outputs": [],
   "source": []
  }
 ],
 "metadata": {
  "kernelspec": {
   "display_name": "Python 3",
   "language": "python",
   "name": "python3"
  },
  "language_info": {
   "codemirror_mode": {
    "name": "ipython",
    "version": 3
   },
   "file_extension": ".py",
   "mimetype": "text/x-python",
   "name": "python",
   "nbconvert_exporter": "python",
   "pygments_lexer": "ipython3",
   "version": "3.8.5"
  }
 },
 "nbformat": 4,
 "nbformat_minor": 4
}
